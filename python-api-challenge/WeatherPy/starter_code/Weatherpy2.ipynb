{
 "cells": [
  {
   "cell_type": "markdown",
   "metadata": {},
   "source": [
    "# WeatherPy\n",
    "----\n",
    "\n",
    "#### Note\n",
    "* Instructions have been included for each segment. You do not have to follow them exactly, but they are included to help you think through the steps."
   ]
  },
  {
   "cell_type": "code",
   "execution_count": 2,
   "metadata": {
    "scrolled": true
   },
   "outputs": [],
   "source": [
    "# Dependencies and Setup\n",
    "import matplotlib.pyplot as plt\n",
    "import pandas as pd\n",
    "import numpy as np\n",
    "import requests\n",
    "import time\n",
    "\n",
    "\n",
    "# Import API key\n",
    "from api_keys import api_key\n",
    "\n",
    "# Incorporated citipy to determine city based on latitude and longitude\n",
    "from citipy import citipy\n",
    "\n",
    "# Output File (CSV)\n",
    "output_data_file = \"output_data/cities.csv\"\n",
    "\n",
    "# Range of latitudes and longitudes\n",
    "lat_range = (-90, 90)\n",
    "lng_range = (-180, 180)"
   ]
  },
  {
   "cell_type": "markdown",
   "metadata": {},
   "source": [
    "## Generate Cities List"
   ]
  },
  {
   "cell_type": "code",
   "execution_count": 55,
   "metadata": {},
   "outputs": [
    {
     "name": "stdout",
     "output_type": "stream",
     "text": [
      "['tromso', 'jamestown', 'east london', 'punta arenas', 'saratoga springs', 'mar del plata', 'busselton', 'mount isa', 'severo-kurilsk', 'portland', 'ambunti', 'rikitea', 'goianinha', 'vaini', 'saskylakh', 'niigata', 'atuona', 'port alfred', 'mataura', 'coihaique', 'taolanaro', 'kloulklubed', 'ponta do sol', 'iqaluit', 'hay river', 'laguna', 'yellowknife', 'tuatapere', 'albany', 'bethel', 'bredasdorp', 'lebu', 'puerto ayora', 'new norfolk', 'lukovetskiy', 'rungata', 'quatre cocos', 'kapaa', 'palmer', 'hobyo', 'honiara', 'narsaq', 'cape town', 'thompson', 'san quintin', 'kangaatsiaq', 'bubaque', 'raudeberg', 'ribeira grande', 'dikson', 'hobart', 'kodiak', 'castro', 'lompoc', 'bilibino', 'alenquer', 'vardo', 'barentsburg', 'asau', 'amahai', 'port elizabeth', 'alihe', 'barrow', 'tuktoyaktuk', 'avarua', 'imbituba', 'lorengau', 'yulara', 'oktyabrskoye', 'kavieng', 'colares', 'awbari', 'kyaukse', 'sao joao da barra', 'muisne', 'grindavik', 'cidreira', 'khatanga', 'margate', 'ngunguru', 'bataipora', 'nanortalik', 'hermanus', 'belushya guba', 'oeiras', 'nikolskoye', 'satitoa', 'polovinnoye', 'norman wells', 'lagoa', 'port lincoln', 'boa vista', 'abha', 'hilo', 'beringovskiy', 'bolungarvik', 'oksfjord', 'dakar', 'ushuaia', 'riyadh', 'mahebourg', 'contamana', 'penzance', 'abnub', 'salalah', 'bathsheba', 'chokurdakh', 'bom jardim', 'kjollefjord', 'arraial do cabo', 'erzin', 'mildura', 'osakarovka', 'songea', 'guerrero negro', 'axim', 'codrington', 'ituporanga', 'bondoukou', 'nicoya', 'tabiauea', 'newport', 'valparaiso', 'port-cartier', 'port blair', 'antalaha', 'tasiilaq', 'bandarbeyla', 'ensley', 'kruisfontein', 'peniche', 'ola', 'nara', 'kensington', 'george', 'gat', 'jining', 'illoqqortoormiut', 'garowe', 'fortuna', 'fare', 'mys shmidta', 'bambous virieux', 'saleaula', 'chornukhy', 'babati', 'kuche', 'yilan', 'carnarvon', 'bektemir', 'grivenskaya', 'alofi', 'talnakh', 'sembe', 'bogovarovo', 'kaitangata', 'aklavik', 'chuncheng', 'batagay-alyta', 'marsh harbour', 'lolua', 'boyuibe', 'dubbo', 'andenes', 'paamiut', 'katherine', 'dalneye konstantinovo', 'clyde river', 'butaritari', 'cabo san lucas', 'volchikha', 'vila velha', 'santa rosa', 'esperance', 'bud', 'ybytimi', 'lavrentiya', 'falealupo', 'pisco', 'gamba', 'taltal', 'te anau', 'grand centre', 'upernavik', 'lata', 'goderich', 'marcona', 'nushki', 'santa isabel do rio negro', 'chuy', 'teneguiban', 'bay city', 'karratha', 'klaksvik', 'cayenne', 'pimentel', 'cap malheureux', 'berdigestyakh', 'vestmannaeyjar', 'kupang', 'luderitz', 'dingle', 'tsihombe', 'san cristobal', 'grand gaube', 'tezu', 'chisindia', 'elat', 'turukhansk', 'rawson', 'georgetown', 'backo petrovo selo', 'gizo', 'puebla', 'dzilam gonzalez', 'bluff', 'kindia', 'sao jose da coroa grande', 'maragogi', 'axixa do tocantins', 'nome', 'sola', 'ketchikan', 'aksarka', 'lodwar', 'torbay', 'richards bay', 'airai', 'puerto escondido', 'los llanos de aridane', 'kamenskoye', 'eldikan', 'provideniya', 'mattru', 'lagunas', 'walvis bay', 'jardim', 'faanui', 'houma', 'nyimba', 'oranjemund', 'yeniseysk', 'pula', 'warri', 'qaanaaq', 'encrucijada', 'danielskuil', 'phuket', 'vila', 'necochea', 'salekhard', 'manono', 'illela', 'chifeng', 'mayo', 'kiama', 'tazovskiy', 'ebeltoft', 'veraval', 'saint anthony', 'netarhat', 'lotofaga', 'coquimbo', 'bambanglipuro', 'taoudenni', 'vilhena', 'cockburn town', 'touros', 'ilulissat', 'sur', 'haines junction', 'launceston', 'caravelas', 'christchurch', 'kalmunai', 'mareeba', 'pevek', 'tiksi', 'pedasi', 'southbridge', 'sitka', 'puerto madero', 'cherskiy', 'kuala terengganu', 'shahada', 'saint-philippe', 'gerash', 'hithadhoo', 'grants pass', 'marzuq', 'port hardy', 'ewa beach', 'carmo do paranaiba', 'ancud', 'tubuala', 'kushima', 'bangolo', 'ust-kamchatsk', 'saldanha', 'kavaratti', 'chernyshevskiy', 'smithfield', 'ayan', 'chokwe', 'bengkulu', 'wasilla', 'benguela', 'moose factory', 'general roca', 'nkoteng', 'letterkenny', 'matay', 'tommot', 'tessalit', 'san patricio', 'nizhneyansk', 'palmares do sul', 'ruatoria', 'baoning', 'vereshchagino', 'kazachinskoye', 'jacareacanga', 'kaeo', 'wanning', 'baglung', 'illintsi', 'port pirie', 'hasaki', 'ajtos', 'krivodanovka', 'marawi', 'kutum', 'eskisehir', 'sao sebastiao', 'havre-saint-pierre', 'nizwa', 'saint george', 'alyangula', 'bronnoysund', 'yarovoye', 'ajdabiya', 'namatanai', 'uji', 'vanavara', 'kudahuvadhoo', 'cassilandia', 'pochutla', 'neuquen', 'tucumcari', 'serpneve', 'shingu', 'mandal', 'tabas', 'grand river south east', 'surab', 'leningradskiy', 'wuwei', 'townsville', 'tadine', 'oistins', 'derzhavinsk', 'geraldton', 'kletskaya', 'wanxian', 'bonthe', 'siniscola', 'maxixe', 'porto novo', 'amderma', 'umzimvubu', 'ngukurr', 'srednekolymsk', 'lasa', 'katobu', 'chumikan', 'raga', 'do gonbadan', 'flinders', 'simao', 'nabire', 'sztum', 'acapulco', 'thinadhoo', 'zhigansk', 'wangkui', 'huarmey', 'paso de carrasco', 'dwarka', 'sindhnur', 'sredniy ikorets', 'warrnambool', 'ayagoz', 'gabriel leyva solano', 'fort nelson', 'camana', 'brae', 'polewali', 'yarada', 'bomet', 'cooma', 'andros town', 'sechura', 'teknaf', 'kaspiyskiy', 'vaskut', 'sao filipe', 'yar-sale', 'acajutla', 'denpasar', 'praia', 'wuning', 'labuan', 'oriximina', 'sharjah', 'samalaeulu', 'sarangani', 'adrar', 'constitucion', 'toulepleu', 'outlook', 'jackson', 'calabozo', 'san jose', 'bogalusa', 'balgazyn', 'armizonskoye', 'kostroma', 'mata', 'dudinka', 'bonavista', 'nyagan', 'abonnema', 'sanandaj', 'gravelbourg', 'kidal', 'shelburne', 'longyearbyen', 'ambon', 'laela', 'casa grande', 'altay', 'laukaa', 'manokwari', 'the valley', 'bakel', 'silver city', 'mackay', 'stephenville', 'mbacke', 'agirish', 'halalo', 'esso', 'san isidro', 'waren', 'kautokeino', 'mahanje', 'nemuro', 'sao felix do xingu', 'pacifica', 'yantal', 'uray', 'neryungri', 'barotac viejo', 'hunza', 'nyzhni petrivtsi', 'berberati', 'senmonorom', 'the pas', 'shache', 'katsuura', 'barabash', 'hihifo', 'ibipeba', 'barawe', 'victoria', 'hamilton', 'seoul', 'marfino', 'ostrovnoy', 'berlevag', 'mergui', 'attawapiskat', 'ribeira brava', 'bijie', 'falam', 'fukue', 'makat', 'komsomolskiy', 'fort-shevchenko', 'souillac', 'kaoma', 'warrington', 'araouane', 'michigan city', 'kabul', 'zemen', 'dunedin', 'tacoronte', 'marshall', 'ambilobe', 'amapa', 'vryburg', 'warburg', 'iwanai', 'montlucon', 'rio grande', 'la ronge', 'caloundra', 'egvekinot', 'tautira', 'khonuu', 'pangnirtung', 'borgarnes', 'college', 'raymore', 'sambava', 'celestun', 'kadykchan', 'alexander city', 'totesti', 'cocal', 'troitsko-pechorsk', 'seymchan', 'impfondo', 'palencia', 'shchelyayur', 'myaundzha', 'biak', 'jiroft', 'vallenar', 'megion', 'muswellbrook', 'acari', 'sentyabrskiy', 'kiunga', 'rio brilhante', 'ahipara', 'sargatskoye', 'asfi', 'jimma', 'high level', 'canutama', 'severobaykalsk', 'sorong', 'yuli', 'chateaudun', 'buraydah', 'kelheim', 'mogadishu', 'olafsvik', 'aflu', 'santa rita', 'manaure', 'boquira', 'boshnyakovo', 'faya', 'lae', 'massaguet', 'ballyshannon', 'najran', 'salsk', 'venice', 'nizhniy kuranakh', 'troyes', 'colesberg', 'gandorhun', 'hailar', 'nampula', 'anqiu', 'alice springs', 'toungoo', 'teguise', 'teahupoo', 'bokspits', 'port hedland', 'hokitika', 'sandviken', 'russell', 'nautla', 'abu dhabi', 'beisfjord', 'kondinskoye', 'buala', 'palmerston', 'isangel', 'coolum beach', 'mantua', 'hirara', 'campbell river', 'ploemeur', 'iskateley', 'hofn', 'banjar', 'pilar', 'canon city', 'fairbanks', 'santiago de cao', 'vao', 'avera', 'astana', 'saint-joseph', 'owando', 'kuala perlis', 'mananjary', 'nyurba', 'boende', 'bidar', 'mizpe ramon', 'mariental', 'kota belud', 'maldonado', 'manavalakurichi', 'kununurra', 'pacific grove', 'sovetskiy', 'bantogon', 'warragul', 'qasigiannguit', 'george town', 'ivanteyevka', 'karaul', 'nelson bay', 'tomatlan', 'jimenez', 'padang']\n"
     ]
    }
   ],
   "source": [
    "# List for holding lat_lngs and cities\n",
    "lat_lngs = []\n",
    "cities = []\n",
    "\n",
    "# Create a set of random lat and lng combinations\n",
    "lats = np.random.uniform(low=-90.000, high=90.000, size=1500)\n",
    "lngs = np.random.uniform(low=-180.000, high=180.000, size=1500)\n",
    "lat_lngs = zip(lats, lngs)\n",
    "\n",
    "# Identify nearest city for each lat, lng combination\n",
    "for lat_lng in lat_lngs:\n",
    "    city = citipy.nearest_city(lat_lng[0], lat_lng[1]).city_name\n",
    "    \n",
    "    # If the city is unique, then add it to a our cities list\n",
    "    if city not in cities:\n",
    "        cities.append(city)\n",
    "\n",
    "# Print the city count to confirm sufficient count\n",
    "len(cities)\n",
    "print(cities)\n",
    "# cities.to_csv(\"weather 2\", index=False, header=True)"
   ]
  },
  {
   "cell_type": "markdown",
   "metadata": {},
   "source": [
    "### Perform API Calls\n",
    "* Perform a weather check on each city using a series of successive API calls.\n",
    "* Include a print log of each city as it'sbeing processed (with the city number and city name).\n"
   ]
  },
  {
   "cell_type": "code",
   "execution_count": 56,
   "metadata": {},
   "outputs": [
    {
     "name": "stdout",
     "output_type": "stream",
     "text": [
      "the city name:taolanaro\n",
      "the city name:rungata\n",
      "the city name:barentsburg\n",
      "the city name:asau\n",
      "the city name:belushya guba\n",
      "the city name:satitoa\n",
      "the city name:bolungarvik\n",
      "the city name:tabiauea\n",
      "the city name:illoqqortoormiut\n",
      "the city name:mys shmidta\n",
      "the city name:saleaula\n",
      "the city name:kuche\n",
      "the city name:sembe\n",
      "the city name:lolua\n",
      "the city name:andenes\n",
      "the city name:dalneye konstantinovo\n",
      "the city name:ybytimi\n",
      "the city name:falealupo\n",
      "the city name:grand centre\n",
      "the city name:marcona\n",
      "the city name:teneguiban\n",
      "the city name:tsihombe\n",
      "the city name:axixa do tocantins\n",
      "the city name:kamenskoye\n",
      "the city name:eldikan\n",
      "the city name:ust-kamchatsk\n",
      "the city name:chokwe\n",
      "the city name:bengkulu\n",
      "the city name:nizhneyansk\n",
      "the city name:ruatoria\n",
      "the city name:ajtos\n",
      "the city name:grand river south east\n",
      "the city name:amderma\n",
      "the city name:umzimvubu\n",
      "the city name:ngukurr\n",
      "the city name:raga\n",
      "the city name:camana\n",
      "the city name:samalaeulu\n",
      "the city name:toulepleu\n",
      "the city name:mbacke\n",
      "the city name:halalo\n",
      "the city name:waren\n",
      "the city name:mahanje\n",
      "the city name:hunza\n",
      "the city name:senmonorom\n",
      "the city name:hihifo\n",
      "the city name:barawe\n",
      "the city name:mergui\n",
      "the city name:attawapiskat\n",
      "the city name:khonuu\n",
      "the city name:kadykchan\n",
      "the city name:shchelyayur\n",
      "the city name:jiroft\n",
      "the city name:sentyabrskiy\n",
      "the city name:asfi\n",
      "the city name:olafsvik\n",
      "the city name:aflu\n",
      "the city name:toungoo\n",
      "the city name:bokspits\n",
      "the city name:mizpe ramon\n",
      "the city name:karaul\n"
     ]
    }
   ],
   "source": [
    "url = \"http://api.openweathermap.org/data/2.5/weather?\"\n",
    "unit = \"Metric\"\n",
    "query_url=f\"{url}appid={api_key}&unites={unit}&q=\"\n",
    "# city = \"Toronto\"\n",
    "# test= requests.get(query_url+city).json()\n",
    "# test\n",
    "lat =[]\n",
    "lon =[]\n",
    "city_name=[]\n",
    "country=[]\n",
    "date=[]\n",
    "maxtemp=[]\n",
    "humidity=[]\n",
    "cloudiness=[]\n",
    "wind_speed=[]\n",
    "for city in cities:\n",
    "    data=requests.get(query_url+city).json()\n",
    "    try:\n",
    "        city_name.append(data['name'])\n",
    "        country.append(data['sys']['country'])\n",
    "        date.append(data['dt'])\n",
    "        lat.append(data['coord']['lat'])\n",
    "        lon.append(data['coord']['lon'])\n",
    "        humidity.append(data['main']['humidity'])\n",
    "        maxtemp.append(data['main']['temp_max'])\n",
    "        cloudiness.append(data['clouds']['all'])\n",
    "        wind_speed.append(data['wind']['speed'])\n",
    "    except:\n",
    "        print(f\"the city name:{city}\")            "
   ]
  },
  {
   "cell_type": "markdown",
   "metadata": {},
   "source": [
    "### Convert Raw Data to DataFrame\n",
    "* Export the city data into a .csv.\n",
    "* Display the DataFrame"
   ]
  },
  {
   "cell_type": "code",
   "execution_count": 76,
   "metadata": {},
   "outputs": [],
   "source": [
    "maxtemp_c=[] \n",
    "for i in maxtemp:\n",
    "    maxtemp_c.append(i- 273.15)\n",
    "\n",
    "dict = {\"Latitude\":lat,\n",
    "        \"Longitude\":lon,\n",
    "        \"Cities\":city_name,\n",
    "        \"Country\":country,\n",
    "        \"Date\":date,\n",
    "        \"Max Temp(C)\":maxtemp_c,\n",
    "        \"Humidity(%)\":humidity,\n",
    "        \"Cloudiness(%)\":cloudiness,\n",
    "        \"Wind Speed(meter/sec)\":wind_speed\n",
    "       }\n",
    "weather_data = pd.DataFrame(dict)\n",
    "weather_data.to_csv(\"weather 2/weather_data.csv\",index=False, header=True)\n",
    "# dict_pd.head()"
   ]
  },
  {
   "cell_type": "code",
   "execution_count": null,
   "metadata": {},
   "outputs": [],
   "source": []
  },
  {
   "cell_type": "code",
   "execution_count": null,
   "metadata": {},
   "outputs": [],
   "source": []
  },
  {
   "cell_type": "markdown",
   "metadata": {},
   "source": [
    "### Plotting the Data\n",
    "* Use proper labeling of the plots using plot titles (including date of analysis) and axes labels.\n",
    "* Save the plotted figures as .pngs."
   ]
  },
  {
   "cell_type": "markdown",
   "metadata": {},
   "source": [
    "#### Latitude vs. Temperature Plot"
   ]
  },
  {
   "cell_type": "code",
   "execution_count": null,
   "metadata": {},
   "outputs": [],
   "source": []
  },
  {
   "cell_type": "markdown",
   "metadata": {},
   "source": [
    "#### Latitude vs. Humidity Plot"
   ]
  },
  {
   "cell_type": "code",
   "execution_count": null,
   "metadata": {},
   "outputs": [],
   "source": []
  },
  {
   "cell_type": "markdown",
   "metadata": {},
   "source": [
    "#### Latitude vs. Cloudiness Plot"
   ]
  },
  {
   "cell_type": "code",
   "execution_count": null,
   "metadata": {},
   "outputs": [],
   "source": []
  },
  {
   "cell_type": "markdown",
   "metadata": {},
   "source": [
    "#### Latitude vs. Wind Speed Plot"
   ]
  },
  {
   "cell_type": "code",
   "execution_count": null,
   "metadata": {},
   "outputs": [],
   "source": []
  },
  {
   "cell_type": "code",
   "execution_count": null,
   "metadata": {},
   "outputs": [],
   "source": []
  }
 ],
 "metadata": {
  "anaconda-cloud": {},
  "kernel_info": {
   "name": "python3"
  },
  "kernelspec": {
   "display_name": "Python 3",
   "language": "python",
   "name": "python3"
  },
  "language_info": {
   "codemirror_mode": {
    "name": "ipython",
    "version": 3
   },
   "file_extension": ".py",
   "mimetype": "text/x-python",
   "name": "python",
   "nbconvert_exporter": "python",
   "pygments_lexer": "ipython3",
   "version": "3.7.3"
  },
  "nteract": {
   "version": "0.12.3"
  }
 },
 "nbformat": 4,
 "nbformat_minor": 2
}
