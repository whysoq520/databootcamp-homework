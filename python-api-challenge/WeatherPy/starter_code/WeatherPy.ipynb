{
 "cells": [
  {
   "cell_type": "markdown",
   "metadata": {},
   "source": [
    "# WeatherPy\n",
    "----\n",
    "\n",
    "#### Note\n",
    "* Instructions have been included for each segment. You do not have to follow them exactly, but they are included to help you think through the steps."
   ]
  },
  {
   "cell_type": "code",
   "execution_count": 1,
   "metadata": {
    "scrolled": true
   },
   "outputs": [],
   "source": [
    "# Dependencies and Setup\n",
    "import matplotlib.pyplot as plt\n",
    "import pandas as pd\n",
    "import numpy as np\n",
    "import requests\n",
    "import time\n",
    "import json\n",
    "# Import API key\n",
    "from api_keys import api_key\n",
    "\n",
    "# Incorporated citipy to determine city based on latitude and longitude\n",
    "from citipy import citipy\n",
    "\n",
    "# Output File (CSV) ???\n",
    "output_data_file = \"output_data/cities.csv\"\n",
    "\n",
    "# Range of latitudes and longitudes\n",
    "lat_range = (-90, 90)\n",
    "lng_range = (-180, 180)"
   ]
  },
  {
   "cell_type": "markdown",
   "metadata": {},
   "source": [
    "## Generate Cities List"
   ]
  },
  {
   "cell_type": "code",
<<<<<<< Updated upstream
   "execution_count": null,
   "metadata": {},
   "outputs": [],
   "source": [
    "pip install citipy"
   ]
  },
  {
   "cell_type": "code",
   "execution_count": 3,
=======
   "execution_count": 2,
>>>>>>> Stashed changes
   "metadata": {},
   "outputs": [
    {
     "data": {
      "text/plain": [
<<<<<<< Updated upstream
       "594"
      ]
     },
     "execution_count": 3,
=======
       "607"
      ]
     },
     "execution_count": 2,
>>>>>>> Stashed changes
     "metadata": {},
     "output_type": "execute_result"
    }
   ],
   "source": [
    "# List for holding lat_lngs and cities\n",
    "lat_lngs = []\n",
    "cities = []\n",
    "\n",
    "# Create a set of random lat and lng combinations\n",
    "lats = np.random.uniform(low=-90.000, high=90.000, size=1500)\n",
    "lngs = np.random.uniform(low=-180.000, high=180.000, size=1500)\n",
    "lat_lngs = zip(lats, lngs)\n",
    "\n",
    "# Identify nearest city for each lat, lng combination\n",
    "for lat_lng in lat_lngs:\n",
    "    city = citipy.nearest_city(lat_lng[0], lat_lng[1]).city_name\n",
    "    \n",
    "    # If the city is unique, then add it to a our cities list\n",
    "    if city not in cities:\n",
    "        cities.append(city)\n",
    "\n",
    "# Print the city count to confirm sufficient count\n",
    "len(cities)"
   ]
  },
  {
   "cell_type": "code",
<<<<<<< Updated upstream
   "execution_count": 4,
   "metadata": {},
   "outputs": [
    {
     "name": "stdout",
     "output_type": "stream",
     "text": [
      "['slupsk', 'illoqqortoormiut', 'samatau', 'motygino', 'talnakh', 'kodinsk', 'victoria', 'balkhash', 'bluff', 'tuktoyaktuk', 'joetsu', 'norman wells', 'longyearbyen', 'ushuaia', 'turka', 'salalah', 'tsihombe', 'new norfolk', 'rikitea', 'albany', 'soyo', 'yirol', 'shu', 'montlucon', 'el guayabito', 'willowmore', 'nikolskoye', 'vaitupu', 'busselton', 'kapaa', 'pathein', 'husavik', 'floresta', 'pakxe', 'andros town', 'cabo san lucas', 'mys shmidta', 'grand river south east', 'talaya', 'georgetown', 'souillac', 'hilo', 'luderitz', 'mataura', 'tasiilaq', 'punta arenas', 'shenjiamen', 'lekoni', 'chuy', 'garissa', 'tiksi', 'kieta', 'cape town', 'srednekolymsk', 'atuona', 'hasaki', 'upernavik', 'dzaoudzi', 'yulara', 'lagoa', 'thompson', 'qaanaaq', 'yerbogachen', 'vaini', 'dolbeau', 'yar-sale', 'banda aceh', 'saint-pierre', 'moranbah', 'pahrump', 'labuhan', 'saint-georges', 'grand-santi', 'riyadh', 'krasnoyarsk-66', 'morant bay', 'vila franca do campo', 'camacupa', 'hunchun', 'bandar-e lengeh', 'segovia', 'bambous virieux', 'rassvet', 'caravelas', 'butaritari', 'port alfred', 'yellowknife', 'high level', 'cherskiy', 'vicente guerrero', 'kodiak', 'chifeng', 'lata', 'nouadhibou', 'avarua', 'ilulissat', 'afua', 'ravar', 'duluth', 'kedrovyy', 'sembakung', 'palabuhanratu', 'barrow', 'taolanaro', 'obo', 'dikson', 'iqaluit', 'cabedelo', 'neiafu', 'manokwari', 'ponta do sol', 'carnarvon', 'niquero', 'taltal', 'male', 'mar del plata', 'porto novo', 'jamestown', 'hofn', 'chlorakas', 'port macquarie', 'kyaikkami', 'bathsheba', 'umm lajj', 'bredasdorp', 'provideniya', 'amderma', 'acambay', 'narsaq', 'warri', 'concordia', 'okato', 'bengkulu', 'zhigansk', 'ambon', 'kerema', 'kruisfontein', 'san cristobal', 'mogadishu', 'tautira', 'tukrah', 'shimoda', 'petropavlovsk-kamchatskiy', 'barentsburg', 'balikpapan', 'touros', 'ostrovnoy', 'puerto ayora', 'mahebourg', 'san juan', 'hobart', 'nicoya', 'mecca', 'towada', 'hermanus', 'mount gambier', 'beringovskiy', 'san quintin', 'mocambique', 'oksfjord', 'bodden town', 'fort nelson', 'lamu', 'isla mujeres', 'verkhnevilyuysk', 'ixtapa', 'alice springs', 'kavieng', 'san patricio', 'dingle', 'iwanai', 'lebu', 'san juan ixcoy', 'belushya guba', 'nuuk', 'berea', 'portland', 'nome', 'nanortalik', 'leh', 'lakes entrance', 'kholtoson', 'hithadhoo', 'port elizabeth', 'airai', 'maragogi', 'arraial do cabo', 'khani', 'castlerea', 'rusape', 'kiama', 'teknaf', 'port lincoln', 'mehamn', 'wonji', 'bardiyah', 'gorontalo', 'hoi an', 'sioux lookout', 'roald', 'tapaua', 'imbituba', 'ayr', 'faanui', 'malanville', 'ngukurr', 'meyungs', 'clonakilty', 'inzer', 'coihaique', 'saskylakh', 'sao joao da barra', 'pirgos', 'constitucion', 'acajutla', 'brits', 'mahaicony', 'codrington', 'fortuna', 'korla', 'luganville', 'salym', 'saint-philippe', 'vestmannaeyjar', 'boone', 'guerrero negro', 'ko samui', 'verkhnyaya toyma', 'turkistan', 'grindavik', 'thun', 'songjianghe', 'nizhneyansk', 'muroto', 'tura', 'hegang', 'ilo', 'gat', 'belyy yar', 'geraldton', 'saint-joseph', 'kattivakkam', 'marshall', 'anchorage', 'mitsamiouli', 'port hedland', 'adrar', 'zuwarah', 'baykit', 'half moon bay', 'sentyabrskiy', 'bethel', 'ouegoa', 'tezu', 'saint george', 'salinopolis', 'kutum', 'khatanga', 'aklavik', 'eyl', 'bababe', 'saint-augustin', 'senneterre', 'morgan city', 'attawapiskat', 'hobyo', 'castro', 'mabamba', 'milkovo', 'kungurtug', 'bentiu', 'tumannyy', 'omboue', 'honiara', 'kaitangata', 'acapulco', 'bayburt', 'tuatapere', 'vrangel', 'diego de almagro', 'swift current', 'paamiut', 'waddan', 'kazalinsk', 'spirit river', 'tunghsiao', 'bandarbeyla', 'takhli', 'pisco', 'chokurdakh', 'ribeira grande', 'dunedin', 'saldanha', 'poum', 'jiuquan', 'aksu', 'kamaishi', 'nepomuceno', 'poso', 'alekseyevsk', 'nalut', 'kargat', 'sumbe', 'general cepeda', 'coquimbo', 'tabukiniberu', 'chibombo', 'samarai', 'rabo de peixe', 'urumqi', 'la ronge', 'tartagal', 'dakoro', 'viransehir', 'maningrida', 'agadez', 'gibara', 'freeport', 'kota belud', 'solnechnyy', 'ihosy', 'shingu', 'ancud', 'monterey', 'rincon', 'jardim', 'canazas', 'ozernovskiy', 'sao filipe', 'borsele', 'camacha', 'zaton', 'bargal', 'santa rosa', 'vigia del fuerte', 'clyde river', 'cockburn town', 'mitu', 'abnub', 'wiwili', 'avera', 'soe', 'maraba', 'kotido', 'aykhal', 'ayagoz', 'ampanihy', 'banjar', 'olenino', 'krasnoselkup', 'bam', 'dovers', 'hami', 'bilokurakyne', 'satuk', 'bairiki', 'owerri', 'jumla', 'aripuana', 'miri', 'vostok', 'ola', 'yingkou', 'vila velha', 'impfondo', 'severo-kurilsk', 'porto velho', 'satitoa', 'daru', 'nador', 'muzhi', 'rio grande', 'boyolangu', 'santiago del estero', 'saint-jean-de-luz', 'kangaatsiaq', 'miles city', 'vao', 'bileca', 'chumikan', 'malakal', 'atkinson', 'san rafael', 'katsuura', 'namibe', 'kahului', 'apatity', 'aswan', 'egvekinot', 'pimentel', 'nortelandia', 'balabac', 'rio bravo', 'aloleng', 'boa vista', 'hvide sande', 'mount isa', 'pevek', 'sorvag', 'middelburg', 'murgab', 'awjilah', 'zabaykalsk', 'necochea', 'kitimat', 'bilma', 'shubarshi', 'maldonado', 'blue springs', 'kloulklubed', 'tanout', 'darasun', 'virginia beach', 'rojhan', 'jiazi', 'cairns', 'dabakala', 'plettenberg bay', 'fort saint john', 'mackay', 'hearst', 'karla', 'ozgon', 'geresk', 'montepuez', 'galiwinku', 'leningradskiy', 'hanting', 'noyabrsk', 'san pedro', 'port blair', 'gizo', 'doha', 'port alberni', 'gorele', 'laguna', 'ahipara', 'cidreira', 'inhambane', 'punganuru', 'lompoc', 'havre-saint-pierre', 'huangchuan', 'bada', 'dedza', 'grootfontein', 'domoni', 'colesberg', 'sanchor', 'rock springs', 'puri', 'mandera', 'bilibino', 'vardo', 'kalmunai', 'noumea', 'marcona', 'namatanai', 'liku', 'inuvik', 'duz', 'puerto leguizamo', 'pringsewu', 'palmas', 'hamilton', 'san francisco', 'pangody', 'mizdah', 'gurgan', 'healdsburg', 'belfast', 'broome', 'nizwa', 'cascas', 'tasbuget', 'takanabe', 'sur', 'guiren', 'aflu', 'barawe', 'khorramshahr', 'goulburn', 'east london', 'turquel', 'tefe', 'hoopstad', 'kaduna', 'lavrentiya', 'mbigou', 'tunduru', 'vestmanna', 'jacksonville beach', 'miandoab', 'yangjiang', 'erzincan', 'kroya', 'tucumcari', 'kawalu', 'colombo', 'sola', 'hokitika', 'sarangani', 'camopi', 'fuling', 'belaya gora', 'bridgetown', 'korhogo', 'flin flon', 'wasilla', 'pangnirtung', 'puerto escondido', 'karaton', 'hovd', 'palmer', 'scarborough', 'verkhnyaya inta', 'ahuimanu', 'ocean city', 'salaga', 'bria', 'sorong', 'marsh harbour', 'xining', 'hailar', 'barra patuca', 'esperance', 'karoi', 'bridgton', 'olafsvik', 'amahai', 'trofors', 'nueva helvecia', 'karratha', 'shizunai', 'narasannapeta', 'campoverde', 'nantucket', 'ayacucho', 'westport', 'strenci', 'kargil', 'amuntai', 'tooele', 'richards bay', 'huilong', 'alofi', 'meadow lake', 'siguiri', 'bosaso', 'taraz', 'chitungwiza', 'accra', 'mogoytuy', 'horodnya', 'kirillov', 'balsas', 'tacna', 'keti bandar', 'broken hill', 'masuguru', 'sisimiut', 'komsomolskiy', 'ossora', 'shamary', 'sarwar', 'torbay', 'khorixas', 'moron', 'sassandra', 'dom pedrito', 'albi', 'jundia', 'los llanos de aridane', 'lorengau', 'aktau', 'johnstown', 'nanakuli', 'trelew', 'coldingham', 'tabuk', 'nexo', 'bubaque', 'mabaruma', 'dobsice', 'rodrigues alves', 'lolua', 'sri aman', 'asau', 'atbasar', 'guisa', 'aconibe', 'berlevag', 'goderich', 'pangkalanbuun']\n"
     ]
    }
   ],
   "source": [
    "print(cities)"
   ]
  },
  {
   "cell_type": "code",
   "execution_count": 5,
   "metadata": {},
   "outputs": [
    {
     "data": {
      "text/html": [
       "<div>\n",
       "<style scoped>\n",
       "    .dataframe tbody tr th:only-of-type {\n",
       "        vertical-align: middle;\n",
       "    }\n",
       "\n",
       "    .dataframe tbody tr th {\n",
       "        vertical-align: top;\n",
       "    }\n",
       "\n",
       "    .dataframe thead th {\n",
       "        text-align: right;\n",
       "    }\n",
       "</style>\n",
       "<table border=\"1\" class=\"dataframe\">\n",
       "  <thead>\n",
       "    <tr style=\"text-align: right;\">\n",
       "      <th></th>\n",
       "      <th>City</th>\n",
       "    </tr>\n",
       "  </thead>\n",
       "  <tbody>\n",
       "    <tr>\n",
       "      <th>0</th>\n",
       "      <td>slupsk</td>\n",
       "    </tr>\n",
       "    <tr>\n",
       "      <th>1</th>\n",
       "      <td>illoqqortoormiut</td>\n",
       "    </tr>\n",
       "    <tr>\n",
       "      <th>2</th>\n",
       "      <td>samatau</td>\n",
       "    </tr>\n",
       "    <tr>\n",
       "      <th>3</th>\n",
       "      <td>motygino</td>\n",
       "    </tr>\n",
       "    <tr>\n",
       "      <th>4</th>\n",
       "      <td>talnakh</td>\n",
       "    </tr>\n",
       "  </tbody>\n",
       "</table>\n",
       "</div>"
      ],
      "text/plain": [
       "               City\n",
       "0            slupsk\n",
       "1  illoqqortoormiut\n",
       "2           samatau\n",
       "3          motygino\n",
       "4           talnakh"
      ]
     },
     "execution_count": 5,
     "metadata": {},
     "output_type": "execute_result"
    }
   ],
   "source": [
    "city_dict={'City':cities}\n",
    "city_weather = pd.DataFrame(city_dict)\n",
    "city_weather.head()"
=======
   "execution_count": 3,
   "metadata": {},
   "outputs": [],
   "source": [
    "# print(cities)"
>>>>>>> Stashed changes
   ]
  },
  {
   "cell_type": "markdown",
   "metadata": {},
   "source": [
    "### Perform API Calls\n",
    "* Perform a weather check on each city using a series of successive API calls.\n",
    "* Include a print log of each city as it'sbeing processed (with the city number and city name).\n"
   ]
  },
  {
   "cell_type": "code",
<<<<<<< Updated upstream
   "execution_count": 7,
   "metadata": {},
   "outputs": [
    {
     "ename": "KeyError",
     "evalue": "'coord '",
     "output_type": "error",
     "traceback": [
      "\u001b[1;31m---------------------------------------------------------------------------\u001b[0m",
      "\u001b[1;31mKeyError\u001b[0m                                  Traceback (most recent call last)",
      "\u001b[1;32m<ipython-input-7-d4fe802e0a4a>\u001b[0m in \u001b[0;36m<module>\u001b[1;34m\u001b[0m\n\u001b[0;32m     17\u001b[0m \u001b[1;32mfor\u001b[0m \u001b[0mcity\u001b[0m \u001b[1;32min\u001b[0m \u001b[0mcities\u001b[0m\u001b[1;33m:\u001b[0m\u001b[1;33m\u001b[0m\u001b[1;33m\u001b[0m\u001b[0m\n\u001b[0;32m     18\u001b[0m     \u001b[0mfile\u001b[0m \u001b[1;33m=\u001b[0m \u001b[0mrequests\u001b[0m\u001b[1;33m.\u001b[0m\u001b[0mget\u001b[0m\u001b[1;33m(\u001b[0m\u001b[0mquery_url\u001b[0m\u001b[1;33m+\u001b[0m \u001b[0mcity\u001b[0m\u001b[1;33m)\u001b[0m\u001b[1;33m.\u001b[0m\u001b[0mjson\u001b[0m\u001b[1;33m(\u001b[0m\u001b[1;33m)\u001b[0m\u001b[1;33m\u001b[0m\u001b[1;33m\u001b[0m\u001b[0m\n\u001b[1;32m---> 19\u001b[1;33m     \u001b[0mlat\u001b[0m\u001b[1;33m.\u001b[0m\u001b[0mappend\u001b[0m\u001b[1;33m(\u001b[0m\u001b[0mfile\u001b[0m\u001b[1;33m[\u001b[0m\u001b[1;34m'coord '\u001b[0m\u001b[1;33m]\u001b[0m\u001b[1;33m[\u001b[0m\u001b[1;34m'lat'\u001b[0m\u001b[1;33m]\u001b[0m\u001b[1;33m)\u001b[0m\u001b[1;33m\u001b[0m\u001b[1;33m\u001b[0m\u001b[0m\n\u001b[0m\u001b[0;32m     20\u001b[0m     \u001b[0mlng\u001b[0m\u001b[1;33m.\u001b[0m\u001b[0mappend\u001b[0m\u001b[1;33m(\u001b[0m\u001b[0mfile\u001b[0m\u001b[1;33m[\u001b[0m\u001b[1;34m'coord '\u001b[0m\u001b[1;33m]\u001b[0m\u001b[1;33m[\u001b[0m\u001b[1;34m'lon'\u001b[0m\u001b[1;33m]\u001b[0m\u001b[1;33m)\u001b[0m\u001b[1;33m\u001b[0m\u001b[1;33m\u001b[0m\u001b[0m\n\u001b[0;32m     21\u001b[0m     \u001b[0mcloudiness\u001b[0m\u001b[1;33m.\u001b[0m\u001b[0mappend\u001b[0m\u001b[1;33m(\u001b[0m\u001b[0mfile\u001b[0m\u001b[1;33m[\u001b[0m\u001b[1;34m'clouds'\u001b[0m\u001b[1;33m]\u001b[0m\u001b[1;33m[\u001b[0m\u001b[1;34m'all'\u001b[0m\u001b[1;33m]\u001b[0m\u001b[1;33m)\u001b[0m\u001b[1;33m\u001b[0m\u001b[1;33m\u001b[0m\u001b[0m\n",
      "\u001b[1;31mKeyError\u001b[0m: 'coord '"
=======
   "execution_count": 8,
   "metadata": {},
   "outputs": [
    {
     "name": "stdout",
     "output_type": "stream",
     "text": [
      "http://api.openweathermap.org/data/2.5/weather?appid=179fccd0dec3d3cc43176c546faaa16b&units=metric&q=\n"
>>>>>>> Stashed changes
     ]
    }
   ],
   "source": [
    "url = \"http://api.openweathermap.org/data/2.5/weather?\"\n",
    "unit = \"metrit\"\n",
    "query_url = url + \"appid=\" + api_key + \"&units=\"+ unit + \"&q=\"\n",
<<<<<<< Updated upstream
    "\n",
    "# set up list to hold respond data\n",
    "lat=[]\n",
    "lng=[]\n",
    "cloudiness = []  \n",
    "country = []     \n",
    "date  = []        \n",
    "humidity =[]     \n",
    "max_temp = []     \n",
    "wind_speed =[]  \n",
    "\n",
    "\n",
    "# Loop through the list of cities and perform a request for data on each\n",
    "for city in cities:\n",
    "    file = requests.get(query_url+ city).json()  \n",
    "    lat.append(file['coord ']['lat'])\n",
    "    lng.append(file['coord ']['lon'])\n",
    "    cloudiness.append(file['clouds']['all'])\n",
    "    date.append(file['dt'])\n",
    "    max_temp.append(file['main']['temp_max'])\n",
    "    humidity.append(file['main']['humidity'])\n",
    "    country.append(file['sys']['country'])\n",
    "    wind_speed.append(file['wind']['speed'])"
=======
    "print(query_url)\n",
    "\n",
    "# set up list to hold respond data\n",
    "# lat=[]\n",
    "# lng=[]\n",
    "# cloudiness = []  \n",
    "# country = []     \n",
    "# date  = []        \n",
    "# humidity =[]     \n",
    "# max_temp = []     \n",
    "# wind_speed =[]  \n",
    "# city_name=[]\n",
    "\n",
    "# #Loop through the list of cities and perform a request for data on each\n",
    "# for city in cities:\n",
    "#     try:\n",
    "#         file = requests.get(query_url+ city).json()\n",
    "#         city_name.append(file['name'])        \n",
    "#         lat.append(file['coord']['lat'])\n",
    "#         lng.append(file['coord']['lon'])\n",
    "#         cloudiness.append(file['clouds']['all'])\n",
    "#         date.append(file['dt'])\n",
    "#         max_temp.append(file['main']['temp_max'])\n",
    "#         humidity.append(file['main']['humidity'])\n",
    "#         country.append(file['sys']['country'])\n",
    "#         wind_speed.append(file['wind']['speed'])\n",
    "        \n",
    "#     except:\n",
    "#         print(city + ' not found')\n"
>>>>>>> Stashed changes
   ]
  },
  {
   "cell_type": "code",
<<<<<<< Updated upstream
   "execution_count": 25,
=======
   "execution_count": null,
   "metadata": {},
   "outputs": [],
   "source": [
    "# city_dict={'City':cities}\n",
    "# city_weather = pd.DataFrame(city_dict)\n",
    "# city_weather.head()"
   ]
  },
  {
   "cell_type": "code",
   "execution_count": 7,
>>>>>>> Stashed changes
   "metadata": {},
   "outputs": [
    {
     "data": {
      "text/plain": [
<<<<<<< Updated upstream
       "[63.83]"
      ]
     },
     "execution_count": 25,
=======
       "[]"
      ]
     },
     "execution_count": 7,
>>>>>>> Stashed changes
     "metadata": {},
     "output_type": "execute_result"
    }
   ],
   "source": [
    "lat"
   ]
  },
  {
   "cell_type": "markdown",
   "metadata": {},
   "source": [
    "### Convert Raw Data to DataFrame\n",
    "* Export the city data into a .csv.\n",
    "* Display the DataFrame"
   ]
  },
  {
   "cell_type": "code",
<<<<<<< Updated upstream
   "execution_count": 18,
   "metadata": {},
   "outputs": [
    {
     "ename": "ValueError",
     "evalue": "Length of values does not match length of index",
     "output_type": "error",
     "traceback": [
      "\u001b[1;31m---------------------------------------------------------------------------\u001b[0m",
      "\u001b[1;31mValueError\u001b[0m                                Traceback (most recent call last)",
      "\u001b[1;32m<ipython-input-18-e308c13530e5>\u001b[0m in \u001b[0;36m<module>\u001b[1;34m\u001b[0m\n\u001b[0;32m      1\u001b[0m \u001b[1;31m# display the DataFrame\u001b[0m\u001b[1;33m\u001b[0m\u001b[1;33m\u001b[0m\u001b[1;33m\u001b[0m\u001b[0m\n\u001b[1;32m----> 2\u001b[1;33m \u001b[0mcity_weather\u001b[0m\u001b[1;33m[\u001b[0m\u001b[1;34m\"Latitude\"\u001b[0m\u001b[1;33m]\u001b[0m\u001b[1;33m=\u001b[0m \u001b[0mlat\u001b[0m\u001b[1;33m\u001b[0m\u001b[1;33m\u001b[0m\u001b[0m\n\u001b[0m\u001b[0;32m      3\u001b[0m \u001b[1;33m\u001b[0m\u001b[0m\n\u001b[0;32m      4\u001b[0m \u001b[0mcity_weather\u001b[0m\u001b[1;33m.\u001b[0m\u001b[0mhead\u001b[0m\u001b[1;33m(\u001b[0m\u001b[1;33m)\u001b[0m\u001b[1;33m\u001b[0m\u001b[1;33m\u001b[0m\u001b[0m\n\u001b[0;32m      5\u001b[0m \u001b[1;33m\u001b[0m\u001b[0m\n",
      "\u001b[1;32m~\\Anaconda3\\lib\\site-packages\\pandas\\core\\frame.py\u001b[0m in \u001b[0;36m__setitem__\u001b[1;34m(self, key, value)\u001b[0m\n\u001b[0;32m   3368\u001b[0m         \u001b[1;32melse\u001b[0m\u001b[1;33m:\u001b[0m\u001b[1;33m\u001b[0m\u001b[1;33m\u001b[0m\u001b[0m\n\u001b[0;32m   3369\u001b[0m             \u001b[1;31m# set column\u001b[0m\u001b[1;33m\u001b[0m\u001b[1;33m\u001b[0m\u001b[1;33m\u001b[0m\u001b[0m\n\u001b[1;32m-> 3370\u001b[1;33m             \u001b[0mself\u001b[0m\u001b[1;33m.\u001b[0m\u001b[0m_set_item\u001b[0m\u001b[1;33m(\u001b[0m\u001b[0mkey\u001b[0m\u001b[1;33m,\u001b[0m \u001b[0mvalue\u001b[0m\u001b[1;33m)\u001b[0m\u001b[1;33m\u001b[0m\u001b[1;33m\u001b[0m\u001b[0m\n\u001b[0m\u001b[0;32m   3371\u001b[0m \u001b[1;33m\u001b[0m\u001b[0m\n\u001b[0;32m   3372\u001b[0m     \u001b[1;32mdef\u001b[0m \u001b[0m_setitem_slice\u001b[0m\u001b[1;33m(\u001b[0m\u001b[0mself\u001b[0m\u001b[1;33m,\u001b[0m \u001b[0mkey\u001b[0m\u001b[1;33m,\u001b[0m \u001b[0mvalue\u001b[0m\u001b[1;33m)\u001b[0m\u001b[1;33m:\u001b[0m\u001b[1;33m\u001b[0m\u001b[1;33m\u001b[0m\u001b[0m\n",
      "\u001b[1;32m~\\Anaconda3\\lib\\site-packages\\pandas\\core\\frame.py\u001b[0m in \u001b[0;36m_set_item\u001b[1;34m(self, key, value)\u001b[0m\n\u001b[0;32m   3443\u001b[0m \u001b[1;33m\u001b[0m\u001b[0m\n\u001b[0;32m   3444\u001b[0m         \u001b[0mself\u001b[0m\u001b[1;33m.\u001b[0m\u001b[0m_ensure_valid_index\u001b[0m\u001b[1;33m(\u001b[0m\u001b[0mvalue\u001b[0m\u001b[1;33m)\u001b[0m\u001b[1;33m\u001b[0m\u001b[1;33m\u001b[0m\u001b[0m\n\u001b[1;32m-> 3445\u001b[1;33m         \u001b[0mvalue\u001b[0m \u001b[1;33m=\u001b[0m \u001b[0mself\u001b[0m\u001b[1;33m.\u001b[0m\u001b[0m_sanitize_column\u001b[0m\u001b[1;33m(\u001b[0m\u001b[0mkey\u001b[0m\u001b[1;33m,\u001b[0m \u001b[0mvalue\u001b[0m\u001b[1;33m)\u001b[0m\u001b[1;33m\u001b[0m\u001b[1;33m\u001b[0m\u001b[0m\n\u001b[0m\u001b[0;32m   3446\u001b[0m         \u001b[0mNDFrame\u001b[0m\u001b[1;33m.\u001b[0m\u001b[0m_set_item\u001b[0m\u001b[1;33m(\u001b[0m\u001b[0mself\u001b[0m\u001b[1;33m,\u001b[0m \u001b[0mkey\u001b[0m\u001b[1;33m,\u001b[0m \u001b[0mvalue\u001b[0m\u001b[1;33m)\u001b[0m\u001b[1;33m\u001b[0m\u001b[1;33m\u001b[0m\u001b[0m\n\u001b[0;32m   3447\u001b[0m \u001b[1;33m\u001b[0m\u001b[0m\n",
      "\u001b[1;32m~\\Anaconda3\\lib\\site-packages\\pandas\\core\\frame.py\u001b[0m in \u001b[0;36m_sanitize_column\u001b[1;34m(self, key, value, broadcast)\u001b[0m\n\u001b[0;32m   3628\u001b[0m \u001b[1;33m\u001b[0m\u001b[0m\n\u001b[0;32m   3629\u001b[0m             \u001b[1;31m# turn me into an ndarray\u001b[0m\u001b[1;33m\u001b[0m\u001b[1;33m\u001b[0m\u001b[1;33m\u001b[0m\u001b[0m\n\u001b[1;32m-> 3630\u001b[1;33m             \u001b[0mvalue\u001b[0m \u001b[1;33m=\u001b[0m \u001b[0msanitize_index\u001b[0m\u001b[1;33m(\u001b[0m\u001b[0mvalue\u001b[0m\u001b[1;33m,\u001b[0m \u001b[0mself\u001b[0m\u001b[1;33m.\u001b[0m\u001b[0mindex\u001b[0m\u001b[1;33m,\u001b[0m \u001b[0mcopy\u001b[0m\u001b[1;33m=\u001b[0m\u001b[1;32mFalse\u001b[0m\u001b[1;33m)\u001b[0m\u001b[1;33m\u001b[0m\u001b[1;33m\u001b[0m\u001b[0m\n\u001b[0m\u001b[0;32m   3631\u001b[0m             \u001b[1;32mif\u001b[0m \u001b[1;32mnot\u001b[0m \u001b[0misinstance\u001b[0m\u001b[1;33m(\u001b[0m\u001b[0mvalue\u001b[0m\u001b[1;33m,\u001b[0m \u001b[1;33m(\u001b[0m\u001b[0mnp\u001b[0m\u001b[1;33m.\u001b[0m\u001b[0mndarray\u001b[0m\u001b[1;33m,\u001b[0m \u001b[0mIndex\u001b[0m\u001b[1;33m)\u001b[0m\u001b[1;33m)\u001b[0m\u001b[1;33m:\u001b[0m\u001b[1;33m\u001b[0m\u001b[1;33m\u001b[0m\u001b[0m\n\u001b[0;32m   3632\u001b[0m                 \u001b[1;32mif\u001b[0m \u001b[0misinstance\u001b[0m\u001b[1;33m(\u001b[0m\u001b[0mvalue\u001b[0m\u001b[1;33m,\u001b[0m \u001b[0mlist\u001b[0m\u001b[1;33m)\u001b[0m \u001b[1;32mand\u001b[0m \u001b[0mlen\u001b[0m\u001b[1;33m(\u001b[0m\u001b[0mvalue\u001b[0m\u001b[1;33m)\u001b[0m \u001b[1;33m>\u001b[0m \u001b[1;36m0\u001b[0m\u001b[1;33m:\u001b[0m\u001b[1;33m\u001b[0m\u001b[1;33m\u001b[0m\u001b[0m\n",
      "\u001b[1;32m~\\Anaconda3\\lib\\site-packages\\pandas\\core\\internals\\construction.py\u001b[0m in \u001b[0;36msanitize_index\u001b[1;34m(data, index, copy)\u001b[0m\n\u001b[0;32m    517\u001b[0m \u001b[1;33m\u001b[0m\u001b[0m\n\u001b[0;32m    518\u001b[0m     \u001b[1;32mif\u001b[0m \u001b[0mlen\u001b[0m\u001b[1;33m(\u001b[0m\u001b[0mdata\u001b[0m\u001b[1;33m)\u001b[0m \u001b[1;33m!=\u001b[0m \u001b[0mlen\u001b[0m\u001b[1;33m(\u001b[0m\u001b[0mindex\u001b[0m\u001b[1;33m)\u001b[0m\u001b[1;33m:\u001b[0m\u001b[1;33m\u001b[0m\u001b[1;33m\u001b[0m\u001b[0m\n\u001b[1;32m--> 519\u001b[1;33m         \u001b[1;32mraise\u001b[0m \u001b[0mValueError\u001b[0m\u001b[1;33m(\u001b[0m\u001b[1;34m'Length of values does not match length of index'\u001b[0m\u001b[1;33m)\u001b[0m\u001b[1;33m\u001b[0m\u001b[1;33m\u001b[0m\u001b[0m\n\u001b[0m\u001b[0;32m    520\u001b[0m \u001b[1;33m\u001b[0m\u001b[0m\n\u001b[0;32m    521\u001b[0m     \u001b[1;32mif\u001b[0m \u001b[0misinstance\u001b[0m\u001b[1;33m(\u001b[0m\u001b[0mdata\u001b[0m\u001b[1;33m,\u001b[0m \u001b[0mABCIndexClass\u001b[0m\u001b[1;33m)\u001b[0m \u001b[1;32mand\u001b[0m \u001b[1;32mnot\u001b[0m \u001b[0mcopy\u001b[0m\u001b[1;33m:\u001b[0m\u001b[1;33m\u001b[0m\u001b[1;33m\u001b[0m\u001b[0m\n",
      "\u001b[1;31mValueError\u001b[0m: Length of values does not match length of index"
=======
   "execution_count": 10,
   "metadata": {},
   "outputs": [
    {
     "ename": "NameError",
     "evalue": "name 'city_name' is not defined",
     "output_type": "error",
     "traceback": [
      "\u001b[1;31m---------------------------------------------------------------------------\u001b[0m",
      "\u001b[1;31mNameError\u001b[0m                                 Traceback (most recent call last)",
      "\u001b[1;32m<ipython-input-10-2a936746e19f>\u001b[0m in \u001b[0;36m<module>\u001b[1;34m\u001b[0m\n\u001b[0;32m      1\u001b[0m \u001b[1;31m# display the DataFrame\u001b[0m\u001b[1;33m\u001b[0m\u001b[1;33m\u001b[0m\u001b[1;33m\u001b[0m\u001b[0m\n\u001b[1;32m----> 2\u001b[1;33m dict = {\"Cities\":city_name,\n\u001b[0m\u001b[0;32m      3\u001b[0m         \u001b[1;34m\"Latitude\"\u001b[0m\u001b[1;33m:\u001b[0m\u001b[0mlat\u001b[0m\u001b[1;33m,\u001b[0m\u001b[1;33m\u001b[0m\u001b[1;33m\u001b[0m\u001b[0m\n\u001b[0;32m      4\u001b[0m         \u001b[1;34m\"Longitude\"\u001b[0m\u001b[1;33m:\u001b[0m\u001b[0mlng\u001b[0m\u001b[1;33m,\u001b[0m\u001b[1;33m\u001b[0m\u001b[1;33m\u001b[0m\u001b[0m\n\u001b[0;32m      5\u001b[0m         \u001b[1;34m\"Cloudiness\"\u001b[0m\u001b[1;33m:\u001b[0m\u001b[0mcloudiness\u001b[0m\u001b[1;33m,\u001b[0m\u001b[1;33m\u001b[0m\u001b[1;33m\u001b[0m\u001b[0m\n",
      "\u001b[1;31mNameError\u001b[0m: name 'city_name' is not defined"
>>>>>>> Stashed changes
     ]
    }
   ],
   "source": [
    "# display the DataFrame\n",
<<<<<<< Updated upstream
    "city_weather[\"Latitude\"]= lat\n",
    "\n",
    "city_weather.head()\n",
=======
    "dict = {\"Cities\":city_name,\n",
    "        \"Latitude\":lat,\n",
    "        \"Longitude\":lng,\n",
    "        \"Cloudiness\":cloudiness,\n",
    "        \"Country\":country,\n",
    "        \"Date\": date,\n",
    "        \"Humidity\":humidity,\n",
    "        \"Max Temp\":max_temp,\n",
    "        \"Wind Speed\":wind_speed       \n",
    "       }\n",
    "        \n",
    "data = pd.DataFrame(dict)\n",
    "data.head()\n",
    "\n",
    "\n",
    "\n",
    "\n",
>>>>>>> Stashed changes
    "\n",
    "            "
   ]
  },
  {
   "cell_type": "code",
<<<<<<< Updated upstream
   "execution_count": 17,
   "metadata": {},
   "outputs": [
    {
     "ename": "ValueError",
     "evalue": "Length of values does not match length of index",
     "output_type": "error",
     "traceback": [
      "\u001b[1;31m---------------------------------------------------------------------------\u001b[0m",
      "\u001b[1;31mValueError\u001b[0m                                Traceback (most recent call last)",
      "\u001b[1;32m<ipython-input-17-22adfff2e100>\u001b[0m in \u001b[0;36m<module>\u001b[1;34m\u001b[0m\n\u001b[1;32m----> 1\u001b[1;33m \u001b[0mcity_weather\u001b[0m\u001b[1;33m[\u001b[0m\u001b[1;34m\"Longitude\"\u001b[0m\u001b[1;33m]\u001b[0m\u001b[1;33m=\u001b[0m \u001b[0mlng\u001b[0m\u001b[1;33m\u001b[0m\u001b[1;33m\u001b[0m\u001b[0m\n\u001b[0m\u001b[0;32m      2\u001b[0m \u001b[0mcity_weather\u001b[0m\u001b[1;33m\u001b[0m\u001b[1;33m\u001b[0m\u001b[0m\n",
      "\u001b[1;32m~\\Anaconda3\\lib\\site-packages\\pandas\\core\\frame.py\u001b[0m in \u001b[0;36m__setitem__\u001b[1;34m(self, key, value)\u001b[0m\n\u001b[0;32m   3368\u001b[0m         \u001b[1;32melse\u001b[0m\u001b[1;33m:\u001b[0m\u001b[1;33m\u001b[0m\u001b[1;33m\u001b[0m\u001b[0m\n\u001b[0;32m   3369\u001b[0m             \u001b[1;31m# set column\u001b[0m\u001b[1;33m\u001b[0m\u001b[1;33m\u001b[0m\u001b[1;33m\u001b[0m\u001b[0m\n\u001b[1;32m-> 3370\u001b[1;33m             \u001b[0mself\u001b[0m\u001b[1;33m.\u001b[0m\u001b[0m_set_item\u001b[0m\u001b[1;33m(\u001b[0m\u001b[0mkey\u001b[0m\u001b[1;33m,\u001b[0m \u001b[0mvalue\u001b[0m\u001b[1;33m)\u001b[0m\u001b[1;33m\u001b[0m\u001b[1;33m\u001b[0m\u001b[0m\n\u001b[0m\u001b[0;32m   3371\u001b[0m \u001b[1;33m\u001b[0m\u001b[0m\n\u001b[0;32m   3372\u001b[0m     \u001b[1;32mdef\u001b[0m \u001b[0m_setitem_slice\u001b[0m\u001b[1;33m(\u001b[0m\u001b[0mself\u001b[0m\u001b[1;33m,\u001b[0m \u001b[0mkey\u001b[0m\u001b[1;33m,\u001b[0m \u001b[0mvalue\u001b[0m\u001b[1;33m)\u001b[0m\u001b[1;33m:\u001b[0m\u001b[1;33m\u001b[0m\u001b[1;33m\u001b[0m\u001b[0m\n",
      "\u001b[1;32m~\\Anaconda3\\lib\\site-packages\\pandas\\core\\frame.py\u001b[0m in \u001b[0;36m_set_item\u001b[1;34m(self, key, value)\u001b[0m\n\u001b[0;32m   3443\u001b[0m \u001b[1;33m\u001b[0m\u001b[0m\n\u001b[0;32m   3444\u001b[0m         \u001b[0mself\u001b[0m\u001b[1;33m.\u001b[0m\u001b[0m_ensure_valid_index\u001b[0m\u001b[1;33m(\u001b[0m\u001b[0mvalue\u001b[0m\u001b[1;33m)\u001b[0m\u001b[1;33m\u001b[0m\u001b[1;33m\u001b[0m\u001b[0m\n\u001b[1;32m-> 3445\u001b[1;33m         \u001b[0mvalue\u001b[0m \u001b[1;33m=\u001b[0m \u001b[0mself\u001b[0m\u001b[1;33m.\u001b[0m\u001b[0m_sanitize_column\u001b[0m\u001b[1;33m(\u001b[0m\u001b[0mkey\u001b[0m\u001b[1;33m,\u001b[0m \u001b[0mvalue\u001b[0m\u001b[1;33m)\u001b[0m\u001b[1;33m\u001b[0m\u001b[1;33m\u001b[0m\u001b[0m\n\u001b[0m\u001b[0;32m   3446\u001b[0m         \u001b[0mNDFrame\u001b[0m\u001b[1;33m.\u001b[0m\u001b[0m_set_item\u001b[0m\u001b[1;33m(\u001b[0m\u001b[0mself\u001b[0m\u001b[1;33m,\u001b[0m \u001b[0mkey\u001b[0m\u001b[1;33m,\u001b[0m \u001b[0mvalue\u001b[0m\u001b[1;33m)\u001b[0m\u001b[1;33m\u001b[0m\u001b[1;33m\u001b[0m\u001b[0m\n\u001b[0;32m   3447\u001b[0m \u001b[1;33m\u001b[0m\u001b[0m\n",
      "\u001b[1;32m~\\Anaconda3\\lib\\site-packages\\pandas\\core\\frame.py\u001b[0m in \u001b[0;36m_sanitize_column\u001b[1;34m(self, key, value, broadcast)\u001b[0m\n\u001b[0;32m   3628\u001b[0m \u001b[1;33m\u001b[0m\u001b[0m\n\u001b[0;32m   3629\u001b[0m             \u001b[1;31m# turn me into an ndarray\u001b[0m\u001b[1;33m\u001b[0m\u001b[1;33m\u001b[0m\u001b[1;33m\u001b[0m\u001b[0m\n\u001b[1;32m-> 3630\u001b[1;33m             \u001b[0mvalue\u001b[0m \u001b[1;33m=\u001b[0m \u001b[0msanitize_index\u001b[0m\u001b[1;33m(\u001b[0m\u001b[0mvalue\u001b[0m\u001b[1;33m,\u001b[0m \u001b[0mself\u001b[0m\u001b[1;33m.\u001b[0m\u001b[0mindex\u001b[0m\u001b[1;33m,\u001b[0m \u001b[0mcopy\u001b[0m\u001b[1;33m=\u001b[0m\u001b[1;32mFalse\u001b[0m\u001b[1;33m)\u001b[0m\u001b[1;33m\u001b[0m\u001b[1;33m\u001b[0m\u001b[0m\n\u001b[0m\u001b[0;32m   3631\u001b[0m             \u001b[1;32mif\u001b[0m \u001b[1;32mnot\u001b[0m \u001b[0misinstance\u001b[0m\u001b[1;33m(\u001b[0m\u001b[0mvalue\u001b[0m\u001b[1;33m,\u001b[0m \u001b[1;33m(\u001b[0m\u001b[0mnp\u001b[0m\u001b[1;33m.\u001b[0m\u001b[0mndarray\u001b[0m\u001b[1;33m,\u001b[0m \u001b[0mIndex\u001b[0m\u001b[1;33m)\u001b[0m\u001b[1;33m)\u001b[0m\u001b[1;33m:\u001b[0m\u001b[1;33m\u001b[0m\u001b[1;33m\u001b[0m\u001b[0m\n\u001b[0;32m   3632\u001b[0m                 \u001b[1;32mif\u001b[0m \u001b[0misinstance\u001b[0m\u001b[1;33m(\u001b[0m\u001b[0mvalue\u001b[0m\u001b[1;33m,\u001b[0m \u001b[0mlist\u001b[0m\u001b[1;33m)\u001b[0m \u001b[1;32mand\u001b[0m \u001b[0mlen\u001b[0m\u001b[1;33m(\u001b[0m\u001b[0mvalue\u001b[0m\u001b[1;33m)\u001b[0m \u001b[1;33m>\u001b[0m \u001b[1;36m0\u001b[0m\u001b[1;33m:\u001b[0m\u001b[1;33m\u001b[0m\u001b[1;33m\u001b[0m\u001b[0m\n",
      "\u001b[1;32m~\\Anaconda3\\lib\\site-packages\\pandas\\core\\internals\\construction.py\u001b[0m in \u001b[0;36msanitize_index\u001b[1;34m(data, index, copy)\u001b[0m\n\u001b[0;32m    517\u001b[0m \u001b[1;33m\u001b[0m\u001b[0m\n\u001b[0;32m    518\u001b[0m     \u001b[1;32mif\u001b[0m \u001b[0mlen\u001b[0m\u001b[1;33m(\u001b[0m\u001b[0mdata\u001b[0m\u001b[1;33m)\u001b[0m \u001b[1;33m!=\u001b[0m \u001b[0mlen\u001b[0m\u001b[1;33m(\u001b[0m\u001b[0mindex\u001b[0m\u001b[1;33m)\u001b[0m\u001b[1;33m:\u001b[0m\u001b[1;33m\u001b[0m\u001b[1;33m\u001b[0m\u001b[0m\n\u001b[1;32m--> 519\u001b[1;33m         \u001b[1;32mraise\u001b[0m \u001b[0mValueError\u001b[0m\u001b[1;33m(\u001b[0m\u001b[1;34m'Length of values does not match length of index'\u001b[0m\u001b[1;33m)\u001b[0m\u001b[1;33m\u001b[0m\u001b[1;33m\u001b[0m\u001b[0m\n\u001b[0m\u001b[0;32m    520\u001b[0m \u001b[1;33m\u001b[0m\u001b[0m\n\u001b[0;32m    521\u001b[0m     \u001b[1;32mif\u001b[0m \u001b[0misinstance\u001b[0m\u001b[1;33m(\u001b[0m\u001b[0mdata\u001b[0m\u001b[1;33m,\u001b[0m \u001b[0mABCIndexClass\u001b[0m\u001b[1;33m)\u001b[0m \u001b[1;32mand\u001b[0m \u001b[1;32mnot\u001b[0m \u001b[0mcopy\u001b[0m\u001b[1;33m:\u001b[0m\u001b[1;33m\u001b[0m\u001b[1;33m\u001b[0m\u001b[0m\n",
      "\u001b[1;31mValueError\u001b[0m: Length of values does not match length of index"
     ]
    }
   ],
   "source": [
    "city_weather[\"Longitude\"]= lng \n",
    "city_weather"
   ]
  },
  {
   "cell_type": "code",
   "execution_count": 16,
   "metadata": {},
   "outputs": [
    {
     "ename": "ValueError",
     "evalue": "Length of values does not match length of index",
     "output_type": "error",
     "traceback": [
      "\u001b[1;31m---------------------------------------------------------------------------\u001b[0m",
      "\u001b[1;31mValueError\u001b[0m                                Traceback (most recent call last)",
      "\u001b[1;32m<ipython-input-16-e03009a0e97d>\u001b[0m in \u001b[0;36m<module>\u001b[1;34m\u001b[0m\n\u001b[1;32m----> 1\u001b[1;33m \u001b[0mcity_weather\u001b[0m\u001b[1;33m[\u001b[0m\u001b[1;34m\"Longitude\"\u001b[0m\u001b[1;33m]\u001b[0m\u001b[1;33m=\u001b[0m \u001b[0mlng\u001b[0m\u001b[1;33m\u001b[0m\u001b[1;33m\u001b[0m\u001b[0m\n\u001b[0m\u001b[0;32m      2\u001b[0m \u001b[0mcity_weather\u001b[0m\u001b[1;33m[\u001b[0m\u001b[1;34m\"Cloudiness\"\u001b[0m\u001b[1;33m]\u001b[0m\u001b[1;33m=\u001b[0m \u001b[0mcloudiness\u001b[0m\u001b[1;33m\u001b[0m\u001b[1;33m\u001b[0m\u001b[0m\n\u001b[0;32m      3\u001b[0m \u001b[0mcity_weather\u001b[0m\u001b[1;33m[\u001b[0m\u001b[1;34m\"Country\"\u001b[0m\u001b[1;33m]\u001b[0m\u001b[1;33m=\u001b[0m \u001b[0mcountry\u001b[0m\u001b[1;33m\u001b[0m\u001b[1;33m\u001b[0m\u001b[0m\n\u001b[0;32m      4\u001b[0m \u001b[0mcity_weather\u001b[0m\u001b[1;33m[\u001b[0m\u001b[1;34m\"Date\"\u001b[0m\u001b[1;33m]\u001b[0m\u001b[1;33m=\u001b[0m \u001b[0mdate\u001b[0m\u001b[1;33m\u001b[0m\u001b[1;33m\u001b[0m\u001b[0m\n\u001b[0;32m      5\u001b[0m \u001b[0mcity_weather\u001b[0m\u001b[1;33m[\u001b[0m\u001b[1;34m\"Humidity\"\u001b[0m\u001b[1;33m]\u001b[0m\u001b[1;33m=\u001b[0m\u001b[0mhumidity\u001b[0m\u001b[1;33m\u001b[0m\u001b[1;33m\u001b[0m\u001b[0m\n",
      "\u001b[1;32m~\\Anaconda3\\lib\\site-packages\\pandas\\core\\frame.py\u001b[0m in \u001b[0;36m__setitem__\u001b[1;34m(self, key, value)\u001b[0m\n\u001b[0;32m   3368\u001b[0m         \u001b[1;32melse\u001b[0m\u001b[1;33m:\u001b[0m\u001b[1;33m\u001b[0m\u001b[1;33m\u001b[0m\u001b[0m\n\u001b[0;32m   3369\u001b[0m             \u001b[1;31m# set column\u001b[0m\u001b[1;33m\u001b[0m\u001b[1;33m\u001b[0m\u001b[1;33m\u001b[0m\u001b[0m\n\u001b[1;32m-> 3370\u001b[1;33m             \u001b[0mself\u001b[0m\u001b[1;33m.\u001b[0m\u001b[0m_set_item\u001b[0m\u001b[1;33m(\u001b[0m\u001b[0mkey\u001b[0m\u001b[1;33m,\u001b[0m \u001b[0mvalue\u001b[0m\u001b[1;33m)\u001b[0m\u001b[1;33m\u001b[0m\u001b[1;33m\u001b[0m\u001b[0m\n\u001b[0m\u001b[0;32m   3371\u001b[0m \u001b[1;33m\u001b[0m\u001b[0m\n\u001b[0;32m   3372\u001b[0m     \u001b[1;32mdef\u001b[0m \u001b[0m_setitem_slice\u001b[0m\u001b[1;33m(\u001b[0m\u001b[0mself\u001b[0m\u001b[1;33m,\u001b[0m \u001b[0mkey\u001b[0m\u001b[1;33m,\u001b[0m \u001b[0mvalue\u001b[0m\u001b[1;33m)\u001b[0m\u001b[1;33m:\u001b[0m\u001b[1;33m\u001b[0m\u001b[1;33m\u001b[0m\u001b[0m\n",
      "\u001b[1;32m~\\Anaconda3\\lib\\site-packages\\pandas\\core\\frame.py\u001b[0m in \u001b[0;36m_set_item\u001b[1;34m(self, key, value)\u001b[0m\n\u001b[0;32m   3443\u001b[0m \u001b[1;33m\u001b[0m\u001b[0m\n\u001b[0;32m   3444\u001b[0m         \u001b[0mself\u001b[0m\u001b[1;33m.\u001b[0m\u001b[0m_ensure_valid_index\u001b[0m\u001b[1;33m(\u001b[0m\u001b[0mvalue\u001b[0m\u001b[1;33m)\u001b[0m\u001b[1;33m\u001b[0m\u001b[1;33m\u001b[0m\u001b[0m\n\u001b[1;32m-> 3445\u001b[1;33m         \u001b[0mvalue\u001b[0m \u001b[1;33m=\u001b[0m \u001b[0mself\u001b[0m\u001b[1;33m.\u001b[0m\u001b[0m_sanitize_column\u001b[0m\u001b[1;33m(\u001b[0m\u001b[0mkey\u001b[0m\u001b[1;33m,\u001b[0m \u001b[0mvalue\u001b[0m\u001b[1;33m)\u001b[0m\u001b[1;33m\u001b[0m\u001b[1;33m\u001b[0m\u001b[0m\n\u001b[0m\u001b[0;32m   3446\u001b[0m         \u001b[0mNDFrame\u001b[0m\u001b[1;33m.\u001b[0m\u001b[0m_set_item\u001b[0m\u001b[1;33m(\u001b[0m\u001b[0mself\u001b[0m\u001b[1;33m,\u001b[0m \u001b[0mkey\u001b[0m\u001b[1;33m,\u001b[0m \u001b[0mvalue\u001b[0m\u001b[1;33m)\u001b[0m\u001b[1;33m\u001b[0m\u001b[1;33m\u001b[0m\u001b[0m\n\u001b[0;32m   3447\u001b[0m \u001b[1;33m\u001b[0m\u001b[0m\n",
      "\u001b[1;32m~\\Anaconda3\\lib\\site-packages\\pandas\\core\\frame.py\u001b[0m in \u001b[0;36m_sanitize_column\u001b[1;34m(self, key, value, broadcast)\u001b[0m\n\u001b[0;32m   3628\u001b[0m \u001b[1;33m\u001b[0m\u001b[0m\n\u001b[0;32m   3629\u001b[0m             \u001b[1;31m# turn me into an ndarray\u001b[0m\u001b[1;33m\u001b[0m\u001b[1;33m\u001b[0m\u001b[1;33m\u001b[0m\u001b[0m\n\u001b[1;32m-> 3630\u001b[1;33m             \u001b[0mvalue\u001b[0m \u001b[1;33m=\u001b[0m \u001b[0msanitize_index\u001b[0m\u001b[1;33m(\u001b[0m\u001b[0mvalue\u001b[0m\u001b[1;33m,\u001b[0m \u001b[0mself\u001b[0m\u001b[1;33m.\u001b[0m\u001b[0mindex\u001b[0m\u001b[1;33m,\u001b[0m \u001b[0mcopy\u001b[0m\u001b[1;33m=\u001b[0m\u001b[1;32mFalse\u001b[0m\u001b[1;33m)\u001b[0m\u001b[1;33m\u001b[0m\u001b[1;33m\u001b[0m\u001b[0m\n\u001b[0m\u001b[0;32m   3631\u001b[0m             \u001b[1;32mif\u001b[0m \u001b[1;32mnot\u001b[0m \u001b[0misinstance\u001b[0m\u001b[1;33m(\u001b[0m\u001b[0mvalue\u001b[0m\u001b[1;33m,\u001b[0m \u001b[1;33m(\u001b[0m\u001b[0mnp\u001b[0m\u001b[1;33m.\u001b[0m\u001b[0mndarray\u001b[0m\u001b[1;33m,\u001b[0m \u001b[0mIndex\u001b[0m\u001b[1;33m)\u001b[0m\u001b[1;33m)\u001b[0m\u001b[1;33m:\u001b[0m\u001b[1;33m\u001b[0m\u001b[1;33m\u001b[0m\u001b[0m\n\u001b[0;32m   3632\u001b[0m                 \u001b[1;32mif\u001b[0m \u001b[0misinstance\u001b[0m\u001b[1;33m(\u001b[0m\u001b[0mvalue\u001b[0m\u001b[1;33m,\u001b[0m \u001b[0mlist\u001b[0m\u001b[1;33m)\u001b[0m \u001b[1;32mand\u001b[0m \u001b[0mlen\u001b[0m\u001b[1;33m(\u001b[0m\u001b[0mvalue\u001b[0m\u001b[1;33m)\u001b[0m \u001b[1;33m>\u001b[0m \u001b[1;36m0\u001b[0m\u001b[1;33m:\u001b[0m\u001b[1;33m\u001b[0m\u001b[1;33m\u001b[0m\u001b[0m\n",
      "\u001b[1;32m~\\Anaconda3\\lib\\site-packages\\pandas\\core\\internals\\construction.py\u001b[0m in \u001b[0;36msanitize_index\u001b[1;34m(data, index, copy)\u001b[0m\n\u001b[0;32m    517\u001b[0m \u001b[1;33m\u001b[0m\u001b[0m\n\u001b[0;32m    518\u001b[0m     \u001b[1;32mif\u001b[0m \u001b[0mlen\u001b[0m\u001b[1;33m(\u001b[0m\u001b[0mdata\u001b[0m\u001b[1;33m)\u001b[0m \u001b[1;33m!=\u001b[0m \u001b[0mlen\u001b[0m\u001b[1;33m(\u001b[0m\u001b[0mindex\u001b[0m\u001b[1;33m)\u001b[0m\u001b[1;33m:\u001b[0m\u001b[1;33m\u001b[0m\u001b[1;33m\u001b[0m\u001b[0m\n\u001b[1;32m--> 519\u001b[1;33m         \u001b[1;32mraise\u001b[0m \u001b[0mValueError\u001b[0m\u001b[1;33m(\u001b[0m\u001b[1;34m'Length of values does not match length of index'\u001b[0m\u001b[1;33m)\u001b[0m\u001b[1;33m\u001b[0m\u001b[1;33m\u001b[0m\u001b[0m\n\u001b[0m\u001b[0;32m    520\u001b[0m \u001b[1;33m\u001b[0m\u001b[0m\n\u001b[0;32m    521\u001b[0m     \u001b[1;32mif\u001b[0m \u001b[0misinstance\u001b[0m\u001b[1;33m(\u001b[0m\u001b[0mdata\u001b[0m\u001b[1;33m,\u001b[0m \u001b[0mABCIndexClass\u001b[0m\u001b[1;33m)\u001b[0m \u001b[1;32mand\u001b[0m \u001b[1;32mnot\u001b[0m \u001b[0mcopy\u001b[0m\u001b[1;33m:\u001b[0m\u001b[1;33m\u001b[0m\u001b[1;33m\u001b[0m\u001b[0m\n",
      "\u001b[1;31mValueError\u001b[0m: Length of values does not match length of index"
     ]
    }
   ],
   "source": [
    "city_weather[\"Longitude\"]= lng \n",
    "city_weather[\"Cloudiness\"]= cloudiness\n",
    "city_weather[\"Country\"]= country \n",
    "city_weather[\"Date\"]= date \n",
    "city_weather[\"Humidity\"]=humidity \n",
    "city_weather[\"Max Temp\"]= max_temp\n",
    "city_weather[\"Wind Speed\"]=wind_speed\n",
    "city_weather.head()"
   ]
  },
  {
   "cell_type": "code",
   "execution_count": null,
=======
   "execution_count": 10,
>>>>>>> Stashed changes
   "metadata": {},
   "outputs": [],
   "source": [
    "#  write csv \n",
    "\n",
<<<<<<< Updated upstream
    "city_weather.to_csv(\"Weather.csv\", index=False, header=True)"
=======
    "data.to_csv(\"City_Weather.csv\", index=False, header=True)"
>>>>>>> Stashed changes
   ]
  },
  {
   "cell_type": "markdown",
   "metadata": {},
   "source": [
    "### Plotting the Data\n",
    "* Use proper labeling of the plots using plot titles (including date of analysis) and axes labels.\n",
    "* Save the plotted figures as .pngs."
   ]
  },
  {
   "cell_type": "markdown",
   "metadata": {},
   "source": [
    "#### Latitude vs. Temperature Plot"
   ]
  },
  {
   "cell_type": "code",
<<<<<<< Updated upstream
   "execution_count": null,
   "metadata": {},
   "outputs": [],
   "source": [
    "plt.scatter(city_weather['Latitude'],city_weather['Temperature'],marker ='o')\n",
    "plt.title('Latitude vs. Temperature Plot')\n",
    "plt.x_label('Latitude')\n",
    "plt.y_label('Temperature')\n",
    "plt.grid()\n",
    "plt.show()"
=======
   "execution_count": 12,
   "metadata": {},
   "outputs": [
    {
     "data": {
      "text/html": [
       "<div>\n",
       "<style scoped>\n",
       "    .dataframe tbody tr th:only-of-type {\n",
       "        vertical-align: middle;\n",
       "    }\n",
       "\n",
       "    .dataframe tbody tr th {\n",
       "        vertical-align: top;\n",
       "    }\n",
       "\n",
       "    .dataframe thead th {\n",
       "        text-align: right;\n",
       "    }\n",
       "</style>\n",
       "<table border=\"1\" class=\"dataframe\">\n",
       "  <thead>\n",
       "    <tr style=\"text-align: right;\">\n",
       "      <th></th>\n",
       "      <th>Cities</th>\n",
       "      <th>Latitude</th>\n",
       "      <th>Longitude</th>\n",
       "      <th>Cloudiness</th>\n",
       "      <th>Country</th>\n",
       "      <th>Date</th>\n",
       "      <th>Humidity</th>\n",
       "      <th>Max Temp</th>\n",
       "      <th>Wind Speed</th>\n",
       "    </tr>\n",
       "  </thead>\n",
       "  <tbody>\n",
       "    <tr>\n",
       "      <th>0</th>\n",
       "      <td>Ushuaia</td>\n",
       "      <td>-54.81</td>\n",
       "      <td>-68.31</td>\n",
       "      <td>75</td>\n",
       "      <td>AR</td>\n",
       "      <td>1572720653</td>\n",
       "      <td>50</td>\n",
       "      <td>284.15</td>\n",
       "      <td>8.70</td>\n",
       "    </tr>\n",
       "    <tr>\n",
       "      <th>1</th>\n",
       "      <td>Zhangzhou</td>\n",
       "      <td>24.51</td>\n",
       "      <td>117.65</td>\n",
       "      <td>17</td>\n",
       "      <td>CN</td>\n",
       "      <td>1572720932</td>\n",
       "      <td>77</td>\n",
       "      <td>293.15</td>\n",
       "      <td>2.00</td>\n",
       "    </tr>\n",
       "    <tr>\n",
       "      <th>2</th>\n",
       "      <td>East London</td>\n",
       "      <td>-33.02</td>\n",
       "      <td>27.91</td>\n",
       "      <td>38</td>\n",
       "      <td>ZA</td>\n",
       "      <td>1572720932</td>\n",
       "      <td>63</td>\n",
       "      <td>291.15</td>\n",
       "      <td>2.10</td>\n",
       "    </tr>\n",
       "    <tr>\n",
       "      <th>3</th>\n",
       "      <td>Margate</td>\n",
       "      <td>-43.03</td>\n",
       "      <td>147.26</td>\n",
       "      <td>76</td>\n",
       "      <td>AU</td>\n",
       "      <td>1572720932</td>\n",
       "      <td>87</td>\n",
       "      <td>282.15</td>\n",
       "      <td>3.60</td>\n",
       "    </tr>\n",
       "    <tr>\n",
       "      <th>4</th>\n",
       "      <td>Vaini</td>\n",
       "      <td>15.34</td>\n",
       "      <td>74.49</td>\n",
       "      <td>74</td>\n",
       "      <td>IN</td>\n",
       "      <td>1572720932</td>\n",
       "      <td>95</td>\n",
       "      <td>292.08</td>\n",
       "      <td>1.15</td>\n",
       "    </tr>\n",
       "  </tbody>\n",
       "</table>\n",
       "</div>"
      ],
      "text/plain": [
       "        Cities  Latitude  Longitude  Cloudiness Country        Date  Humidity  \\\n",
       "0      Ushuaia    -54.81     -68.31          75      AR  1572720653        50   \n",
       "1    Zhangzhou     24.51     117.65          17      CN  1572720932        77   \n",
       "2  East London    -33.02      27.91          38      ZA  1572720932        63   \n",
       "3      Margate    -43.03     147.26          76      AU  1572720932        87   \n",
       "4        Vaini     15.34      74.49          74      IN  1572720932        95   \n",
       "\n",
       "   Max Temp  Wind Speed  \n",
       "0    284.15        8.70  \n",
       "1    293.15        2.00  \n",
       "2    291.15        2.10  \n",
       "3    282.15        3.60  \n",
       "4    292.08        1.15  "
      ]
     },
     "execution_count": 12,
     "metadata": {},
     "output_type": "execute_result"
    }
   ],
   "source": [
    "import matplotlib.pyplot as plt\n",
    "import pandas as pd\n",
    "import numpy as np\n",
    "\n",
    "city_weather = pd.read_csv(\"City_Weather.csv\")\n",
    "len(city_weather)\n",
    "city_weather.head()"
   ]
  },
  {
   "cell_type": "code",
   "execution_count": 6,
   "metadata": {},
   "outputs": [
    {
     "data": {
      "image/png": "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\n",
      "text/plain": [
       "<Figure size 432x288 with 1 Axes>"
      ]
     },
     "metadata": {
      "needs_background": "light"
     },
     "output_type": "display_data"
    }
   ],
   "source": [
    "\n",
    "plt.scatter(city_weather['Latitude'],city_weather['Max Temp'],marker ='o')\n",
    "plt.title('Latitude VS Temperature Plot')\n",
    "plt.xlabel('Latitude')\n",
    "plt.ylabel('Temperature')\n",
    "plt.grid()\n",
    "plt.savefig('Latitude vs Temperature Plot')\n",
    "# plt.show()"
>>>>>>> Stashed changes
   ]
  },
  {
   "cell_type": "markdown",
   "metadata": {},
   "source": [
    "#### Latitude vs. Humidity Plot"
   ]
  },
  {
   "cell_type": "code",
<<<<<<< Updated upstream
   "execution_count": null,
   "metadata": {},
   "outputs": [],
   "source": [
    "plt.scatter(city_weather['Latitude'],city_weather['Humidity'],marker ='o')\n",
    "plt.title('Latitude vs. Humidity Plot')\n",
    "plt.x_label('Latitude')\n",
    "plt.y_label('Humidity')\n",
    "plt.grid()\n",
    "plt.show()"
=======
   "execution_count": 7,
   "metadata": {},
   "outputs": [
    {
     "data": {
      "image/png": "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\n",
      "text/plain": [
       "<Figure size 432x288 with 1 Axes>"
      ]
     },
     "metadata": {
      "needs_background": "light"
     },
     "output_type": "display_data"
    }
   ],
   "source": [
    "plt.scatter(city_weather['Latitude'],city_weather['Humidity'],marker ='o')\n",
    "plt.title('Latitude VS Humidity Plot')\n",
    "plt.xlabel('Latitude')\n",
    "plt.ylabel('Humidity')\n",
    "plt.grid()\n",
    "plt.savefig('Latitude VS Humidity Plot')\n",
    "# plt.show()"
>>>>>>> Stashed changes
   ]
  },
  {
   "cell_type": "markdown",
   "metadata": {},
   "source": [
    "#### Latitude vs. Cloudiness Plot"
   ]
  },
  {
   "cell_type": "code",
<<<<<<< Updated upstream
   "execution_count": null,
   "metadata": {},
   "outputs": [],
   "source": [
    "plt.scatter(city_weather['Latitude'],city_weather['Cloudiness'],marker ='o')\n",
    "plt.title('Latitude vs. Cloudiness Plot')\n",
    "plt.x_label('Latitude')\n",
    "plt.y_label('Cloudiness')\n",
    "plt.grid()\n",
=======
   "execution_count": 8,
   "metadata": {},
   "outputs": [
    {
     "data": {
      "image/png": "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\n",
      "text/plain": [
       "<Figure size 432x288 with 1 Axes>"
      ]
     },
     "metadata": {
      "needs_background": "light"
     },
     "output_type": "display_data"
    }
   ],
   "source": [
    "plt.scatter(city_weather['Latitude'],city_weather['Cloudiness'],marker ='o')\n",
    "plt.title('Latitude VS Cloudiness Plot')\n",
    "plt.xlabel('Latitude')\n",
    "plt.ylabel('Cloudiness')\n",
    "plt.grid()\n",
    "plt.savefig('Latitude VS Cloudiness Plot')\n",
>>>>>>> Stashed changes
    "plt.show()"
   ]
  },
  {
   "cell_type": "markdown",
   "metadata": {},
   "source": [
    "#### Latitude vs. Wind Speed Plot"
   ]
  },
  {
   "cell_type": "code",
<<<<<<< Updated upstream
   "execution_count": null,
   "metadata": {},
   "outputs": [],
   "source": [
    "plt.scatter(city_weather['Latitude'],city_weather['Wind Speed'],marker ='o')\n",
    "plt.title('Latitude vs. Wind Speed Plot')\n",
    "plt.x_label('Latitude')\n",
    "plt.y_label('Wind Speed')\n",
    "plt.grid()\n",
=======
   "execution_count": 9,
   "metadata": {},
   "outputs": [
    {
     "data": {
      "image/png": "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\n",
      "text/plain": [
       "<Figure size 432x288 with 1 Axes>"
      ]
     },
     "metadata": {
      "needs_background": "light"
     },
     "output_type": "display_data"
    }
   ],
   "source": [
    "plt.scatter(city_weather['Latitude'],city_weather['Wind Speed'],marker ='o')\n",
    "plt.title('Latitude VS Wind Speed Plot')\n",
    "plt.xlabel('Latitude')\n",
    "plt.ylabel('Wind Speed')\n",
    "plt.grid()\n",
    "plt.savefig('Latitude VS Wind Speed Plot')\n",
>>>>>>> Stashed changes
    "plt.show()"
   ]
  },
  {
   "cell_type": "code",
   "execution_count": null,
   "metadata": {},
   "outputs": [],
   "source": []
  }
 ],
 "metadata": {
  "anaconda-cloud": {},
  "kernel_info": {
   "name": "python3"
  },
  "kernelspec": {
   "display_name": "Python 3",
   "language": "python",
   "name": "python3"
  },
  "language_info": {
   "codemirror_mode": {
    "name": "ipython",
    "version": 3
   },
   "file_extension": ".py",
   "mimetype": "text/x-python",
   "name": "python",
   "nbconvert_exporter": "python",
   "pygments_lexer": "ipython3",
   "version": "3.7.3"
  },
  "nteract": {
   "version": "0.12.3"
  }
 },
 "nbformat": 4,
 "nbformat_minor": 2
}
